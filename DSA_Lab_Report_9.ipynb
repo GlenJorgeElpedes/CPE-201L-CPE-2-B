{
  "nbformat": 4,
  "nbformat_minor": 0,
  "metadata": {
    "colab": {
      "provenance": [],
      "authorship_tag": "ABX9TyPS8Q/HUAcKR2YCOiKtGtMn",
      "include_colab_link": true
    },
    "kernelspec": {
      "name": "python3",
      "display_name": "Python 3"
    },
    "language_info": {
      "name": "python"
    }
  },
  "cells": [
    {
      "cell_type": "markdown",
      "metadata": {
        "id": "view-in-github",
        "colab_type": "text"
      },
      "source": [
        "<a href=\"https://colab.research.google.com/github/GlenJorgeElpedes/CPE-201L-CPE-2-B/blob/main/DSA_Lab_Report_9.ipynb\" target=\"_parent\"><img src=\"https://colab.research.google.com/assets/colab-badge.svg\" alt=\"Open In Colab\"/></a>"
      ]
    },
    {
      "cell_type": "code",
      "source": [
        "def create_queue():\n",
        "    queue = []\n",
        "    return queue\n",
        "\n",
        "def is_empty(queue):\n",
        "    return len(queue) == 0\n",
        "\n",
        "def enqueue(queue, item):\n",
        "    queue.append(item)\n",
        "    print(\"Enqueued Element: \" + item)\n",
        "\n",
        "def dequeue(queue):\n",
        "    if is_empty(queue):\n",
        "        return \"The queue is empty\"\n",
        "    return queue.pop(0)\n",
        "\n",
        "queue = create_queue()\n",
        "enqueue(queue, str(1))\n",
        "enqueue(queue, str(2))\n",
        "enqueue(queue, str(3))\n",
        "enqueue(queue, str(4))\n",
        "enqueue(queue, str(5))\n",
        "\n",
        "print(\"The elements in the queue are: \" + str(queue))\n"
      ],
      "metadata": {
        "colab": {
          "base_uri": "https://localhost:8080/"
        },
        "id": "ObgHxYLbYu3m",
        "outputId": "3f44a331-591e-4b91-a0a3-63990de866f9"
      },
      "execution_count": 8,
      "outputs": [
        {
          "output_type": "stream",
          "name": "stdout",
          "text": [
            "Enqueued Element: 1\n",
            "Enqueued Element: 2\n",
            "Enqueued Element: 3\n",
            "Enqueued Element: 4\n",
            "Enqueued Element: 5\n",
            "The elements in the queue are: ['1', '2', '3', '4', '5']\n"
          ]
        }
      ]
    }
  ]
}
{
  "nbformat": 4,
  "nbformat_minor": 0,
  "metadata": {
    "colab": {
      "provenance": [],
      "authorship_tag": "ABX9TyOtMKk8KYSjFIQwQtzwCe/k",
      "include_colab_link": true
    },
    "kernelspec": {
      "name": "python3",
      "display_name": "Python 3"
    },
    "language_info": {
      "name": "python"
    }
  },
  "cells": [
    {
      "cell_type": "markdown",
      "metadata": {
        "id": "view-in-github",
        "colab_type": "text"
      },
      "source": [
        "<a href=\"https://colab.research.google.com/github/GlenJorgeElpedes/CPE-201L-CPE-2-B/blob/main/DSA_lab_report_4.ipynb\" target=\"_parent\"><img src=\"https://colab.research.google.com/assets/colab-badge.svg\" alt=\"Open In Colab\"/></a>"
      ]
    },
    {
      "cell_type": "code",
      "execution_count": 2,
      "metadata": {
        "colab": {
          "base_uri": "https://localhost:8080/"
        },
        "id": "x38HDFShxOan",
        "outputId": "a89114d5-ef77-4175-a8f3-66987e3fa4c5"
      },
      "outputs": [
        {
          "output_type": "stream",
          "name": "stdout",
          "text": [
            "Apple -> Total: 70\n",
            "Banana -> Total: 80\n",
            "Broccoli -> Total: 720\n",
            "Lettuce -> Total: 500\n"
          ]
        }
      ],
      "source": [
        "class GroceryItem:\n",
        "    def __init__(self, name, price, quantity):\n",
        "        self.name = name\n",
        "        self.price = price\n",
        "        self.quantity = quantity\n",
        "\n",
        "    def total(self):\n",
        "        return self.price * self.quantity\n",
        "\n",
        "\n",
        "class Fruit(GroceryItem):\n",
        "    pass\n",
        "\n",
        "\n",
        "class Vegetable(GroceryItem):\n",
        "    pass\n",
        "\n",
        "\n",
        "apple = Fruit(\"Apple\", 10, 7)\n",
        "banana = Fruit(\"Banana\", 10, 8)\n",
        "broccoli = Vegetable(\"Broccoli\", 60, 12)\n",
        "lettuce = Vegetable(\"Lettuce\", 50, 10)\n",
        "\n",
        "print(apple.name, \"-> Total:\", apple.total())\n",
        "print(banana.name, \"-> Total:\", banana.total())\n",
        "print(broccoli.name, \"-> Total:\", broccoli.total())\n",
        "print(lettuce.name, \"-> Total:\", lettuce.total())"
      ]
    },
    {
      "cell_type": "code",
      "source": [
        "class GroceryItem:\n",
        "    def __init__(self, name, price, quantity):\n",
        "        self.name = name\n",
        "        self.price = price\n",
        "        self.quantity = quantity\n",
        "\n",
        "    def total(self):\n",
        "        return self.price * self.quantity\n",
        "\n",
        "\n",
        "class Fruit(GroceryItem):\n",
        "    pass\n",
        "\n",
        "\n",
        "class Vegetable(GroceryItem):\n",
        "    pass\n",
        "\n",
        "\n",
        "GroceryList = [\n",
        "    Fruit(\"Apple\", 10, 7),\n",
        "    Fruit(\"Banana\", 10, 8),\n",
        "    Vegetable(\"Broccoli\", 60, 12),\n",
        "    Vegetable(\"Lettuce\", 50, 10)]\n",
        "\n",
        "for item in GroceryList:\n",
        "    print(item.name, item.price, item.quantity, \"Total:\", item.total())"
      ],
      "metadata": {
        "colab": {
          "base_uri": "https://localhost:8080/"
        },
        "id": "d364Jbzr1f9A",
        "outputId": "b01b828f-251e-4b7a-f0b3-892cc91dfbf3"
      },
      "execution_count": 3,
      "outputs": [
        {
          "output_type": "stream",
          "name": "stdout",
          "text": [
            "Apple 10 7 Total: 70\n",
            "Banana 10 8 Total: 80\n",
            "Broccoli 60 12 Total: 720\n",
            "Lettuce 50 10 Total: 500\n"
          ]
        }
      ]
    },
    {
      "cell_type": "code",
      "source": [
        "class GroceryItem:\n",
        "    def __init__(self, name, price, quantity):\n",
        "        self.name = name\n",
        "        self.price = price\n",
        "        self.quantity = quantity\n",
        "\n",
        "    def total(self):\n",
        "        return self.price * self.quantity\n",
        "\n",
        "\n",
        "class Fruit(GroceryItem):\n",
        "    pass\n",
        "\n",
        "\n",
        "class Vegetable(GroceryItem):\n",
        "    pass\n",
        "\n",
        "\n",
        "GroceryList = [\n",
        "    Fruit(\"Apple\", 10, 7),\n",
        "    Fruit(\"Banana\", 10, 8),\n",
        "    Vegetable(\"Broccoli\", 60, 12),\n",
        "    Vegetable(\"Lettuce\", 50, 10)]\n",
        "\n",
        "def TotalSum(items):\n",
        "    total = 0\n",
        "    for item in items:\n",
        "        total += item.total()\n",
        "    return total\n",
        "\n",
        "\n",
        "print(\"Total Sum:\", TotalSum(GroceryList))"
      ],
      "metadata": {
        "colab": {
          "base_uri": "https://localhost:8080/"
        },
        "id": "wWqFPpiS1np-",
        "outputId": "0be11fbf-3de0-46c2-aeed-cbef394417f5"
      },
      "execution_count": 1,
      "outputs": [
        {
          "output_type": "stream",
          "name": "stdout",
          "text": [
            "Total Sum: 1370\n"
          ]
        }
      ]
    },
    {
      "cell_type": "code",
      "source": [
        "class GroceryItem:\n",
        "    def __init__(self, name, price, quantity):\n",
        "        self.name = name\n",
        "        self.price = price\n",
        "        self.quantity = quantity\n",
        "\n",
        "    def total(self):\n",
        "        return self.price * self.quantity\n",
        "\n",
        "\n",
        "class Fruit(GroceryItem):\n",
        "    pass\n",
        "\n",
        "\n",
        "class Vegetable(GroceryItem):\n",
        "    pass\n",
        "\n",
        "\n",
        "# Grocery List\n",
        "GroceryList = [\n",
        "    Fruit(\"Apple\", 10, 7),\n",
        "    Fruit(\"Banana\", 10, 8),\n",
        "    Vegetable(\"Broccoli\", 60, 12),\n",
        "    Vegetable(\"Lettuce\", 50, 10)]\n",
        "\n",
        "for item in GroceryList:\n",
        "    if item.name == \"Lettuce\":\n",
        "        GroceryList.remove(item)  # remove from list\n",
        "        del item                   # deallocate memory reference\n",
        "        break\n",
        "\n",
        "for item in GroceryList:\n",
        "    print(item.name, item.price, item.quantity, \"Total:\", item.total())"
      ],
      "metadata": {
        "colab": {
          "base_uri": "https://localhost:8080/"
        },
        "id": "ftcMcQ_p1xA_",
        "outputId": "c9082b47-fcb3-4992-9e9a-5ef23c65c4fe"
      },
      "execution_count": 4,
      "outputs": [
        {
          "output_type": "stream",
          "name": "stdout",
          "text": [
            "Apple 10 7 Total: 70\n",
            "Banana 10 8 Total: 80\n",
            "Broccoli 60 12 Total: 720\n"
          ]
        }
      ]
    }
  ]
}
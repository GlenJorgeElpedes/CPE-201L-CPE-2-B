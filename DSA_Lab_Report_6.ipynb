{
  "nbformat": 4,
  "nbformat_minor": 0,
  "metadata": {
    "colab": {
      "provenance": [],
      "authorship_tag": "ABX9TyMtfkaTSXn1JINTsiVB8xql",
      "include_colab_link": true
    },
    "kernelspec": {
      "name": "python3",
      "display_name": "Python 3"
    },
    "language_info": {
      "name": "python"
    }
  },
  "cells": [
    {
      "cell_type": "markdown",
      "metadata": {
        "id": "view-in-github",
        "colab_type": "text"
      },
      "source": [
        "<a href=\"https://colab.research.google.com/github/GlenJorgeElpedes/CPE-201L-CPE-2-B/blob/main/DSA_Lab_Report_6.ipynb\" target=\"_parent\"><img src=\"https://colab.research.google.com/assets/colab-badge.svg\" alt=\"Open In Colab\"/></a>"
      ]
    },
    {
      "cell_type": "code",
      "source": [
        "class Node:\n",
        "    def __init__(self, data):\n",
        "        self.data = data\n",
        "        self.next = None\n",
        "\n",
        "def is_prime(n):\n",
        "    if n <= 1:\n",
        "        return False\n",
        "    if n == 2:\n",
        "        return True\n",
        "    if n % 2 == 0:\n",
        "        return False\n",
        "    for i in range(3, int(n**0.5) + 1, 2):\n",
        "        if n % i == 0:\n",
        "            return False\n",
        "    return True\n",
        "\n",
        "def create_prime_linked_list():\n",
        "    head = None\n",
        "    tail = None\n",
        "    for num in range(2, 20):\n",
        "        if is_prime(num):\n",
        "            new_node = Node(num)\n",
        "            if head is None:\n",
        "                head = new_node\n",
        "                tail = new_node\n",
        "            else:\n",
        "                tail.next = new_node\n",
        "                tail = new_node\n",
        "    return head, tail\n",
        "\n",
        "def display_list(head, tail):\n",
        "    print(\"Prime numbers in the linked list:\")\n",
        "    current = head\n",
        "    while current:\n",
        "        print(current.data, end=\" → \")\n",
        "        current = current.next\n",
        "    print(\"None\")\n",
        "    print(f\"\\nHead of the list: {head.data}\")\n",
        "    print(f\"Tail of the list: {tail.data}\")\n",
        "\n",
        "if __name__ == \"__main__\":\n",
        "    head, tail = create_prime_linked_list()\n",
        "    display_list(head, tail)"
      ],
      "metadata": {
        "colab": {
          "base_uri": "https://localhost:8080/"
        },
        "id": "SNGdoQLW_vf1",
        "outputId": "c14072f0-60bc-421d-db9d-015d5021d549"
      },
      "execution_count": 9,
      "outputs": [
        {
          "output_type": "stream",
          "name": "stdout",
          "text": [
            "Prime numbers in the linked list:\n",
            "2 → 3 → 5 → 7 → 11 → 13 → 17 → 19 → None\n",
            "\n",
            "Head of the list: 2\n",
            "Tail of the list: 19\n"
          ]
        }
      ]
    }
  ]
}
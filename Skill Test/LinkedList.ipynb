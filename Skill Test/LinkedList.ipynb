{
  "nbformat": 4,
  "nbformat_minor": 0,
  "metadata": {
    "colab": {
      "provenance": []
    },
    "kernelspec": {
      "name": "python3",
      "display_name": "Python 3"
    },
    "language_info": {
      "name": "python"
    }
  },
  "cells": [
    {
      "cell_type": "code",
      "source": [
        "class Node:\n",
        "    def __init__(self, data):\n",
        "        self.data = data\n",
        "        self.next = None\n",
        "\n",
        "class LinkedList:\n",
        "    def __init__(self):\n",
        "        self.head = None\n",
        "\n",
        "    def append(self, data):\n",
        "        new_node = Node(data)\n",
        "        if not self.head:\n",
        "            self.head = new_node\n",
        "            return\n",
        "        temp = self.head\n",
        "        while temp.next:\n",
        "            temp = temp.next\n",
        "        temp.next = new_node\n",
        "\n",
        "    def insert_front(self, data):\n",
        "        new_node = Node(data)\n",
        "        new_node.next = self.head\n",
        "        self.head = new_node\n",
        "\n",
        "    def insert_end(self, data):\n",
        "        self.append(data)\n",
        "\n",
        "    def traverse(self):\n",
        "        temp = self.head\n",
        "        while temp:\n",
        "            print(temp.data, end=\" \")\n",
        "            temp = temp.next\n",
        "        print()\n",
        "\n",
        "fullname = \"GLEN JORGE ATANACIO ELPEDES\"\n",
        "ll = LinkedList()\n",
        "\n",
        "for ch in fullname:\n",
        "    ll.append(ch)\n",
        "\n",
        "ll.insert_front(\"_\")\n",
        "ll.insert_end(\"_\")\n",
        "\n",
        "print(\"Traversed Linked List:\")\n",
        "ll.traverse()\n"
      ],
      "metadata": {
        "colab": {
          "base_uri": "https://localhost:8080/"
        },
        "id": "fqjKGYvfG95d",
        "outputId": "7a452837-f22a-451b-f981-df7ed1fecdb6"
      },
      "execution_count": 62,
      "outputs": [
        {
          "output_type": "stream",
          "name": "stdout",
          "text": [
            "Traversed Linked List:\n",
            "_ G L E N   J O R G E   A T A N A C I O   E L P E D E S _ \n"
          ]
        }
      ]
    }
  ]
}
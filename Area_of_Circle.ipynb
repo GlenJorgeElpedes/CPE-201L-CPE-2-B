{
  "nbformat": 4,
  "nbformat_minor": 0,
  "metadata": {
    "colab": {
      "provenance": [],
      "authorship_tag": "ABX9TyNaWNutSPiTSR3agT6Xc2/6",
      "include_colab_link": true
    },
    "kernelspec": {
      "name": "python3",
      "display_name": "Python 3"
    },
    "language_info": {
      "name": "python"
    }
  },
  "cells": [
    {
      "cell_type": "markdown",
      "metadata": {
        "id": "view-in-github",
        "colab_type": "text"
      },
      "source": [
        "<a href=\"https://colab.research.google.com/github/GlenJorgeElpedes/CPE-201L-CPE-2-B/blob/main/Area_of_Circle.ipynb\" target=\"_parent\"><img src=\"https://colab.research.google.com/assets/colab-badge.svg\" alt=\"Open In Colab\"/></a>"
      ]
    },
    {
      "cell_type": "code",
      "execution_count": 3,
      "metadata": {
        "colab": {
          "base_uri": "https://localhost:8080/"
        },
        "id": "c0xhQmEMZ1Yx",
        "outputId": "dc4526f8-602a-4137-999e-965d97a8cfdf"
      },
      "outputs": [
        {
          "output_type": "stream",
          "name": "stdout",
          "text": [
            "153.86\n"
          ]
        }
      ],
      "source": [
        "r = 7\n",
        "area = 3.14 * r * r\n",
        "print(area)\n"
      ]
    },
    {
      "cell_type": "code",
      "source": [
        "diameter = 14\n",
        "r = diameter / 2\n",
        "area = 3.14 * r * r\n",
        "print(area)"
      ],
      "metadata": {
        "colab": {
          "base_uri": "https://localhost:8080/"
        },
        "id": "VZzm2LKzbByj",
        "outputId": "94e11fbe-8ec7-4cad-a7ac-025d11ed981b"
      },
      "execution_count": 4,
      "outputs": [
        {
          "output_type": "stream",
          "name": "stdout",
          "text": [
            "153.86\n"
          ]
        }
      ]
    }
  ]
}
{
  "nbformat": 4,
  "nbformat_minor": 0,
  "metadata": {
    "colab": {
      "provenance": [],
      "authorship_tag": "ABX9TyMYPq/AvU4KScMlHko3fWuu",
      "include_colab_link": true
    },
    "kernelspec": {
      "name": "python3",
      "display_name": "Python 3"
    },
    "language_info": {
      "name": "python"
    }
  },
  "cells": [
    {
      "cell_type": "markdown",
      "metadata": {
        "id": "view-in-github",
        "colab_type": "text"
      },
      "source": [
        "<a href=\"https://colab.research.google.com/github/GlenJorgeElpedes/CPE-201L-CPE-2-B/blob/main/Area_of_Circle.ipynb\" target=\"_parent\"><img src=\"https://colab.research.google.com/assets/colab-badge.svg\" alt=\"Open In Colab\"/></a>"
      ]
    },
    {
      "cell_type": "code",
      "execution_count": 3,
      "metadata": {
        "colab": {
          "base_uri": "https://localhost:8080/"
        },
        "id": "c0xhQmEMZ1Yx",
        "outputId": "5b4a8a51-abd8-4c78-ba5d-2f4219669a80"
      },
      "outputs": [
        {
          "output_type": "stream",
          "name": "stdout",
          "text": [
            "Enter the radius of the circle: 5\n",
            "78.5\n"
          ]
        }
      ],
      "source": [
        "r = float(input(\"Enter the radius of the circle: \"))\n",
        "area = 3.14 * r * r\n",
        "print(area)\n"
      ]
    },
    {
      "cell_type": "code",
      "source": [
        "diameter = 8\n",
        "r = diameter / 2\n",
        "area = 3.14 * r * r\n",
        "print(area)"
      ],
      "metadata": {
        "colab": {
          "base_uri": "https://localhost:8080/"
        },
        "id": "VZzm2LKzbByj",
        "outputId": "d7f30dfe-e6b6-476d-880f-29697af59bd3"
      },
      "execution_count": 4,
      "outputs": [
        {
          "output_type": "stream",
          "name": "stdout",
          "text": [
            "50.24\n"
          ]
        }
      ]
    }
  ]
}
{
  "nbformat": 4,
  "nbformat_minor": 0,
  "metadata": {
    "colab": {
      "provenance": [],
      "authorship_tag": "ABX9TyPxK3sCI8dBKMg76Fpj2ol7",
      "include_colab_link": true
    },
    "kernelspec": {
      "name": "python3",
      "display_name": "Python 3"
    },
    "language_info": {
      "name": "python"
    }
  },
  "cells": [
    {
      "cell_type": "markdown",
      "metadata": {
        "id": "view-in-github",
        "colab_type": "text"
      },
      "source": [
        "<a href=\"https://colab.research.google.com/github/GlenJorgeElpedes/CPE-201L-CPE-2-B/blob/main/Midterm_Skill_Test.ipynb\" target=\"_parent\"><img src=\"https://colab.research.google.com/assets/colab-badge.svg\" alt=\"Open In Colab\"/></a>"
      ]
    },
    {
      "cell_type": "markdown",
      "source": [
        "A.) Display all data of the integer 1-30\n"
      ],
      "metadata": {
        "id": "34frQJP1k_GI"
      }
    },
    {
      "cell_type": "code",
      "source": [
        "class Node:\n",
        "    def __init__(self, data):\n",
        "        self.data = data\n",
        "        self.next = None\n",
        "\n",
        "\n",
        "class LinkedList:\n",
        "    def __init__(self):\n",
        "        self.head = None\n",
        "\n",
        "    def create_list(self):\n",
        "        # Create linked list with numbers from 1 to 30\n",
        "        self.head = Node(1)\n",
        "        current = self.head\n",
        "        for i in range(2, 31):\n",
        "            new_node = Node(i)\n",
        "            current.next = new_node\n",
        "            current = new_node\n",
        "\n",
        "    def display(self):\n",
        "        current = self.head\n",
        "        while current:\n",
        "            print(current.data, end=' →' if current.next else '\\n')\n",
        "            current = current.next\n",
        "# ======= Testing =======\n",
        "\n",
        "llist = LinkedList()\n",
        "llist.create_list()\n",
        "\n",
        "print(\"All Data in the list\")\n",
        "llist.display()"
      ],
      "metadata": {
        "colab": {
          "base_uri": "https://localhost:8080/"
        },
        "id": "nOZqcOJnkrbJ",
        "outputId": "9adcd820-9e76-4f20-f903-5dc0c8f09e4f"
      },
      "execution_count": 72,
      "outputs": [
        {
          "output_type": "stream",
          "name": "stdout",
          "text": [
            "All Data in the list\n",
            "1 →2 →3 →4 →5 →6 →7 →8 →9 →10 →11 →12 →13 →14 →15 →16 →17 →18 →19 →20 →21 →22 →23 →24 →25 →26 →27 →28 →29 →30\n"
          ]
        }
      ]
    },
    {
      "cell_type": "markdown",
      "source": [
        "B.) Append a new node to the list"
      ],
      "metadata": {
        "id": "3Rx-95BSlPF2"
      }
    },
    {
      "cell_type": "code",
      "source": [
        "class Node:\n",
        "    def __init__(self, data):\n",
        "        self.data = data\n",
        "        self.next = None\n",
        "\n",
        "\n",
        "class LinkedList:\n",
        "    def __init__(self):\n",
        "        self.head = None\n",
        "\n",
        "    def create_list(self):\n",
        "        # Create linked list with numbers from 1 to 30\n",
        "        self.head = Node(1)\n",
        "        current = self.head\n",
        "        for i in range(2, 31):\n",
        "            new_node = Node(i)\n",
        "            current.next = new_node\n",
        "            current = new_node\n",
        "\n",
        "    def display(self):\n",
        "        current = self.head\n",
        "        while current:\n",
        "            print(current.data, end=' →' if current.next else '\\n')\n",
        "            current = current.next\n",
        "\n",
        "    def append_node(self, value):\n",
        "        # Manual append without using separate append function\n",
        "        new_node = Node(value)\n",
        "        if self.head is None:\n",
        "            self.head = new_node\n",
        "            return\n",
        "\n",
        "        current = self.head\n",
        "        while current.next:\n",
        "            current = current.next\n",
        "        current.next = new_node\n",
        "\n",
        "    def reverse_list(self):\n",
        "        # Manual reverse without using separate reverse function\n",
        "        prev = None\n",
        "        current = self.head\n",
        "\n",
        "        while current:\n",
        "            next_node = current.next\n",
        "            current.next = prev\n",
        "            prev = current\n",
        "            current = next_node\n",
        "\n",
        "        self.head = prev\n",
        "\n",
        "\n",
        "# ======= Testing =======\n",
        "\n",
        "llist = LinkedList()\n",
        "llist.create_list()\n",
        "\n",
        "print(\"All Data in the lisr\")\n",
        "llist.display()\n",
        "\n",
        "print(\"Append node in the list with value 31:\")\n",
        "llist.append_node(31)\n",
        "llist.display()"
      ],
      "metadata": {
        "colab": {
          "base_uri": "https://localhost:8080/"
        },
        "id": "NTT3n60GloVY",
        "outputId": "1fb2e038-ce3d-4cda-aa2c-75865500bbcf"
      },
      "execution_count": 76,
      "outputs": [
        {
          "output_type": "stream",
          "name": "stdout",
          "text": [
            "All Data in the lisr\n",
            "1 →2 →3 →4 →5 →6 →7 →8 →9 →10 →11 →12 →13 →14 →15 →16 →17 →18 →19 →20 →21 →22 →23 →24 →25 →26 →27 →28 →29 →30\n",
            "Append node in the list with value 31:\n",
            "1 →2 →3 →4 →5 →6 →7 →8 →9 →10 →11 →12 →13 →14 →15 →16 →17 →18 →19 →20 →21 →22 →23 →24 →25 →26 →27 →28 →29 →30 →31\n"
          ]
        }
      ]
    },
    {
      "cell_type": "markdown",
      "source": [
        "C.) Reversing the input of the list"
      ],
      "metadata": {
        "id": "bD6kbGDImBIo"
      }
    },
    {
      "cell_type": "code",
      "source": [
        "class Node:\n",
        "    def __init__(self, data):\n",
        "        self.data = data\n",
        "        self.next = None\n",
        "\n",
        "\n",
        "class LinkedList:\n",
        "    def __init__(self):\n",
        "        self.head = None\n",
        "\n",
        "    def create_list(self):\n",
        "        # Create linked list with numbers from 1 to 30\n",
        "        self.head = Node(1)\n",
        "        current = self.head\n",
        "        for i in range(2, 31):\n",
        "            new_node = Node(i)\n",
        "            current.next = new_node\n",
        "            current = new_node\n",
        "\n",
        "    def display(self):\n",
        "        current = self.head\n",
        "        while current:\n",
        "            print(current.data, end=' →' if current.next else '\\n')\n",
        "            current = current.next\n",
        "\n",
        "    def append_node(self, value):\n",
        "        # Manual append without using separate append function\n",
        "        new_node = Node(value)\n",
        "        if self.head is None:\n",
        "            self.head = new_node\n",
        "            return\n",
        "\n",
        "        current = self.head\n",
        "        while current.next:\n",
        "            current = current.next\n",
        "        current.next = new_node\n",
        "\n",
        "    def reverse_list(self):\n",
        "        # Manual reverse without using separate reverse function\n",
        "        prev = None\n",
        "        current = self.head\n",
        "\n",
        "        while current:\n",
        "            next_node = current.next\n",
        "            current.next = prev\n",
        "            prev = current\n",
        "            current = next_node\n",
        "\n",
        "        self.head = prev\n",
        "\n",
        "\n",
        "# ======= Testing =======\n",
        "\n",
        "llist = LinkedList()\n",
        "llist.create_list()\n",
        "\n",
        "print(\"All Data in the list:\")\n",
        "llist.display()\n",
        "\n",
        "print(\"Append node in the list with value 31:\")\n",
        "llist.append_node(31)\n",
        "llist.display()\n",
        "\n",
        "print(\"Reverse All Data in the list:\")\n",
        "llist.reverse_list()\n",
        "llist.display()\n"
      ],
      "metadata": {
        "colab": {
          "base_uri": "https://localhost:8080/"
        },
        "id": "hoCIlPk9uNSG",
        "outputId": "0a6247b2-2492-4d11-8ef1-42f21c60636c"
      },
      "execution_count": 75,
      "outputs": [
        {
          "output_type": "stream",
          "name": "stdout",
          "text": [
            "All Data in the list:\n",
            "1 →2 →3 →4 →5 →6 →7 →8 →9 →10 →11 →12 →13 →14 →15 →16 →17 →18 →19 →20 →21 →22 →23 →24 →25 →26 →27 →28 →29 →30\n",
            "Append node in the list with value 31:\n",
            "1 →2 →3 →4 →5 →6 →7 →8 →9 →10 →11 →12 →13 →14 →15 →16 →17 →18 →19 →20 →21 →22 →23 →24 →25 →26 →27 →28 →29 →30 →31\n",
            "Reverse All Data in the list:\n",
            "31 →30 →29 →28 →27 →26 →25 →24 →23 →22 →21 →20 →19 →18 →17 →16 →15 →14 →13 →12 →11 →10 →9 →8 →7 →6 →5 →4 →3 →2 →1\n"
          ]
        }
      ]
    }
  ]
}